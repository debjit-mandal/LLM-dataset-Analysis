{
 "cells": [
  {
   "cell_type": "code",
   "execution_count": 2,
   "id": "74a593b0",
   "metadata": {},
   "outputs": [
    {
     "data": {
      "text/html": [
       "<div>\n",
       "<style scoped>\n",
       "    .dataframe tbody tr th:only-of-type {\n",
       "        vertical-align: middle;\n",
       "    }\n",
       "\n",
       "    .dataframe tbody tr th {\n",
       "        vertical-align: top;\n",
       "    }\n",
       "\n",
       "    .dataframe thead th {\n",
       "        text-align: right;\n",
       "    }\n",
       "</style>\n",
       "<table border=\"1\" class=\"dataframe\">\n",
       "  <thead>\n",
       "    <tr style=\"text-align: right;\">\n",
       "      <th></th>\n",
       "      <th>model</th>\n",
       "      <th>comapany</th>\n",
       "      <th>arch</th>\n",
       "      <th>parameters</th>\n",
       "      <th>tokens</th>\n",
       "      <th>ratio</th>\n",
       "      <th>alscore</th>\n",
       "      <th>training_dataset</th>\n",
       "      <th>release_date</th>\n",
       "      <th>notes</th>\n",
       "      <th>playground</th>\n",
       "    </tr>\n",
       "  </thead>\n",
       "  <tbody>\n",
       "    <tr>\n",
       "      <th>0</th>\n",
       "      <td>Olympus</td>\n",
       "      <td>Amazon</td>\n",
       "      <td>TBA</td>\n",
       "      <td>2000.0</td>\n",
       "      <td>40000.0</td>\n",
       "      <td>20:01</td>\n",
       "      <td>8944.27191</td>\n",
       "      <td>TBA</td>\n",
       "      <td>TBA</td>\n",
       "      <td>New related Titan details: '$65m training run....</td>\n",
       "      <td>https://lifearchitect.ai/olympus/</td>\n",
       "    </tr>\n",
       "    <tr>\n",
       "      <th>1</th>\n",
       "      <td>GPT-5</td>\n",
       "      <td>OpenAI</td>\n",
       "      <td>TBA</td>\n",
       "      <td>2000.0</td>\n",
       "      <td>NaN</td>\n",
       "      <td>TBA</td>\n",
       "      <td>NaN</td>\n",
       "      <td>TBA</td>\n",
       "      <td>TBA</td>\n",
       "      <td>Due 2024.</td>\n",
       "      <td>https://lifearchitect.ai/gpt-5/</td>\n",
       "    </tr>\n",
       "    <tr>\n",
       "      <th>2</th>\n",
       "      <td>GPT-6</td>\n",
       "      <td>OpenAI</td>\n",
       "      <td>TBA</td>\n",
       "      <td>NaN</td>\n",
       "      <td>NaN</td>\n",
       "      <td>TBA</td>\n",
       "      <td>NaN</td>\n",
       "      <td>TBA</td>\n",
       "      <td>TBA</td>\n",
       "      <td>Due 2025.</td>\n",
       "      <td>https://lifearchitect.ai/gpt-6/</td>\n",
       "    </tr>\n",
       "    <tr>\n",
       "      <th>3</th>\n",
       "      <td>AuroraGPT (ScienceGPT)</td>\n",
       "      <td>ANL</td>\n",
       "      <td>TBA</td>\n",
       "      <td>1000.0</td>\n",
       "      <td>NaN</td>\n",
       "      <td>TBA</td>\n",
       "      <td>NaN</td>\n",
       "      <td>TBA</td>\n",
       "      <td>TBA</td>\n",
       "      <td>https://tpc.dev/2023/11/10/tpc-announced-with-...</td>\n",
       "      <td>https://www.hpcwire.com/2023/11/13/training-of...</td>\n",
       "    </tr>\n",
       "    <tr>\n",
       "      <th>4</th>\n",
       "      <td>Grok-2</td>\n",
       "      <td>xAI</td>\n",
       "      <td>TBA</td>\n",
       "      <td>NaN</td>\n",
       "      <td>NaN</td>\n",
       "      <td>TBA</td>\n",
       "      <td>NaN</td>\n",
       "      <td>TBA</td>\n",
       "      <td>TBA</td>\n",
       "      <td>Due 2025.</td>\n",
       "      <td>https://twitter.com/elonmusk/status/1773655245...</td>\n",
       "    </tr>\n",
       "  </tbody>\n",
       "</table>\n",
       "</div>"
      ],
      "text/plain": [
       "                    model comapany arch  parameters   tokens  ratio  \\\n",
       "0                 Olympus   Amazon  TBA      2000.0  40000.0  20:01   \n",
       "1                   GPT-5   OpenAI  TBA      2000.0      NaN    TBA   \n",
       "2                   GPT-6   OpenAI  TBA         NaN      NaN    TBA   \n",
       "3  AuroraGPT (ScienceGPT)      ANL  TBA      1000.0      NaN    TBA   \n",
       "4                  Grok-2      xAI  TBA         NaN      NaN    TBA   \n",
       "\n",
       "      alscore training_dataset release_date  \\\n",
       "0  8944.27191              TBA          TBA   \n",
       "1         NaN              TBA          TBA   \n",
       "2         NaN              TBA          TBA   \n",
       "3         NaN              TBA          TBA   \n",
       "4         NaN              TBA          TBA   \n",
       "\n",
       "                                               notes  \\\n",
       "0  New related Titan details: '$65m training run....   \n",
       "1                                          Due 2024.   \n",
       "2                                          Due 2025.   \n",
       "3  https://tpc.dev/2023/11/10/tpc-announced-with-...   \n",
       "4                                          Due 2025.   \n",
       "\n",
       "                                          playground  \n",
       "0                  https://lifearchitect.ai/olympus/  \n",
       "1                    https://lifearchitect.ai/gpt-5/  \n",
       "2                    https://lifearchitect.ai/gpt-6/  \n",
       "3  https://www.hpcwire.com/2023/11/13/training-of...  \n",
       "4  https://twitter.com/elonmusk/status/1773655245...  "
      ]
     },
     "execution_count": 2,
     "metadata": {},
     "output_type": "execute_result"
    }
   ],
   "source": [
    "\n",
    "import pandas as pd\n",
    "import numpy as np\n",
    "import matplotlib.pyplot as plt\n",
    "import seaborn as sns\n",
    "from sklearn.model_selection import train_test_split\n",
    "from sklearn.linear_model import LinearRegression\n",
    "from sklearn.ensemble import RandomForestRegressor\n",
    "from sklearn.metrics import mean_squared_error\n",
    "\n",
    "file_path = 'data/Large language models (2024).csv'\n",
    "df = pd.read_csv(file_path, encoding='latin1')\n",
    "\n",
    "df.columns = [col.strip().replace(' ', '_').lower() for col in df.columns]\n",
    "\n",
    "df['parameters'] = pd.to_numeric(df['parameters'], errors='coerce')\n",
    "df['tokens'] = pd.to_numeric(df['tokens'], errors='coerce')\n",
    "df['alscore'] = (df['parameters'] * df['tokens']) ** 0.5\n",
    "\n",
    "df.head()\n"
   ]
  },
  {
   "cell_type": "markdown",
   "id": "944de495",
   "metadata": {},
   "source": [
    "\n",
    "# Predictive Modeling\n",
    "\n",
    "## 1. Predicting Missing Values for Tokens\n"
   ]
  },
  {
   "cell_type": "code",
   "execution_count": 3,
   "id": "f950a9c0",
   "metadata": {},
   "outputs": [
    {
     "data": {
      "text/plain": [
       "6460.983122100423"
      ]
     },
     "execution_count": 3,
     "metadata": {},
     "output_type": "execute_result"
    }
   ],
   "source": [
    "\n",
    "data = df[['parameters', 'tokens']].dropna()\n",
    "\n",
    "X = data[['parameters']]\n",
    "y = data['tokens']\n",
    "\n",
    "X_train, X_test, y_train, y_test = train_test_split(X, y, test_size=0.2, random_state=42)\n",
    "\n",
    "# RandomForestRegressor model\n",
    "model = RandomForestRegressor(n_estimators=100, random_state=42)\n",
    "model.fit(X_train, y_train)\n",
    "\n",
    "y_pred = model.predict(X_test)\n",
    "rmse = mean_squared_error(y_test, y_pred, squared=False)\n",
    "\n",
    "rmse\n"
   ]
  },
  {
   "cell_type": "markdown",
   "id": "7d3d7a9f",
   "metadata": {},
   "source": [
    "\n",
    "## 2. Predicting Missing Values for ALScore\n"
   ]
  },
  {
   "cell_type": "code",
   "execution_count": 4,
   "id": "fdcf493c",
   "metadata": {},
   "outputs": [
    {
     "data": {
      "text/plain": [
       "344.03608420239846"
      ]
     },
     "execution_count": 4,
     "metadata": {},
     "output_type": "execute_result"
    }
   ],
   "source": [
    "\n",
    "data = df[['parameters', 'tokens', 'alscore']].dropna()\n",
    "\n",
    "X = data[['parameters', 'tokens']]\n",
    "y = data['alscore']\n",
    "\n",
    "X_train, X_test, y_train, y_test = train_test_split(X, y, test_size=0.2, random_state=42)\n",
    "\n",
    "# LinearRegression model\n",
    "model = LinearRegression()\n",
    "model.fit(X_train, y_train)\n",
    "\n",
    "y_pred = model.predict(X_test)\n",
    "rmse = mean_squared_error(y_test, y_pred, squared=False)\n",
    "\n",
    "rmse\n"
   ]
  }
 ],
 "metadata": {
  "kernelspec": {
   "display_name": "Python 3",
   "language": "python",
   "name": "python3"
  },
  "language_info": {
   "codemirror_mode": {
    "name": "ipython",
    "version": 3
   },
   "file_extension": ".py",
   "mimetype": "text/x-python",
   "name": "python",
   "nbconvert_exporter": "python",
   "pygments_lexer": "ipython3",
   "version": "3.11.9"
  }
 },
 "nbformat": 4,
 "nbformat_minor": 5
}
